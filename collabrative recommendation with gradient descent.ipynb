{
 "cells": [
  {
   "cell_type": "code",
   "execution_count": 1,
   "metadata": {},
   "outputs": [],
   "source": [
    "from numpy import *"
   ]
  },
  {
   "cell_type": "code",
   "execution_count": 2,
   "metadata": {},
   "outputs": [],
   "source": [
    "# define the number of movies in our 'database'\n",
    "\n",
    "num_movies = 10"
   ]
  },
  {
   "cell_type": "code",
   "execution_count": 3,
   "metadata": {},
   "outputs": [],
   "source": [
    "# define the number of users in our 'database'\n",
    "\n",
    "num_users = 5"
   ]
  },
  {
   "cell_type": "code",
   "execution_count": 4,
   "metadata": {},
   "outputs": [],
   "source": [
    "# randomly initialize some movie ratings \n",
    "# a 10 X 5 matrix\n",
    "\n",
    "ratings = random.randint(11, size = (num_movies, num_users))"
   ]
  },
  {
   "cell_type": "code",
   "execution_count": 6,
   "metadata": {},
   "outputs": [
    {
     "name": "stdout",
     "output_type": "stream",
     "text": [
      "[[ 6  5  7  3  6]\n",
      " [ 1  0  9  7  7]\n",
      " [ 2 10  4  5  1]\n",
      " [ 8  8  4  0  3]\n",
      " [ 7  0 10  0  9]\n",
      " [10  0  4  3  1]\n",
      " [ 3  3 10  3  1]\n",
      " [ 8  1  1  5  4]\n",
      " [ 7 10  2  6  1]\n",
      " [ 8  4  8 10  6]]\n"
     ]
    }
   ],
   "source": [
    "print (ratings)"
   ]
  },
  {
   "cell_type": "code",
   "execution_count": 7,
   "metadata": {},
   "outputs": [],
   "source": [
    "# create a logical matrix (matrix that represents whether a rating was made, or not)\n",
    "# != is the logical not operator\n",
    "\n",
    "did_rate = (ratings != 0) * 1"
   ]
  },
  {
   "cell_type": "code",
   "execution_count": 8,
   "metadata": {},
   "outputs": [
    {
     "name": "stdout",
     "output_type": "stream",
     "text": [
      "[[1 1 1 1 1]\n",
      " [1 0 1 1 1]\n",
      " [1 1 1 1 1]\n",
      " [1 1 1 0 1]\n",
      " [1 0 1 0 1]\n",
      " [1 0 1 1 1]\n",
      " [1 1 1 1 1]\n",
      " [1 1 1 1 1]\n",
      " [1 1 1 1 1]\n",
      " [1 1 1 1 1]]\n"
     ]
    }
   ],
   "source": [
    "print (did_rate)"
   ]
  },
  {
   "cell_type": "code",
   "execution_count": 9,
   "metadata": {},
   "outputs": [
    {
     "name": "stdout",
     "output_type": "stream",
     "text": [
      "[[ True  True  True  True  True]\n",
      " [ True False  True  True  True]\n",
      " [ True  True  True  True  True]\n",
      " [ True  True  True False  True]\n",
      " [ True False  True False  True]\n",
      " [ True False  True  True  True]\n",
      " [ True  True  True  True  True]\n",
      " [ True  True  True  True  True]\n",
      " [ True  True  True  True  True]\n",
      " [ True  True  True  True  True]]\n"
     ]
    }
   ],
   "source": [
    "print (ratings != 0)"
   ]
  },
  {
   "cell_type": "code",
   "execution_count": 11,
   "metadata": {},
   "outputs": [
    {
     "name": "stdout",
     "output_type": "stream",
     "text": [
      "[[1 1 1 1 1]\n",
      " [1 0 1 1 1]\n",
      " [1 1 1 1 1]\n",
      " [1 1 1 0 1]\n",
      " [1 0 1 0 1]\n",
      " [1 0 1 1 1]\n",
      " [1 1 1 1 1]\n",
      " [1 1 1 1 1]\n",
      " [1 1 1 1 1]\n",
      " [1 1 1 1 1]]\n"
     ]
    }
   ],
   "source": [
    "print ((ratings != 0) * 1)"
   ]
  },
  {
   "cell_type": "code",
   "execution_count": 12,
   "metadata": {},
   "outputs": [
    {
     "data": {
      "text/plain": [
       "(10, 5)"
      ]
     },
     "execution_count": 12,
     "metadata": {},
     "output_type": "execute_result"
    }
   ],
   "source": [
    "# Get the dimensions of a matrix using the shape property\n",
    "\n",
    "ratings.shape"
   ]
  },
  {
   "cell_type": "code",
   "execution_count": 13,
   "metadata": {},
   "outputs": [
    {
     "data": {
      "text/plain": [
       "(10, 5)"
      ]
     },
     "execution_count": 13,
     "metadata": {},
     "output_type": "execute_result"
    }
   ],
   "source": [
    "did_rate.shape"
   ]
  },
  {
   "cell_type": "code",
   "execution_count": 14,
   "metadata": {},
   "outputs": [
    {
     "name": "stdout",
     "output_type": "stream",
     "text": [
      "[[0.]\n",
      " [0.]\n",
      " [0.]\n",
      " [0.]\n",
      " [0.]\n",
      " [0.]\n",
      " [0.]\n",
      " [0.]\n",
      " [0.]\n",
      " [0.]]\n"
     ]
    }
   ],
   "source": [
    "divyesh_ratings = zeros((num_movies, 1))\n",
    "print (divyesh_ratings)\n"
   ]
  },
  {
   "cell_type": "code",
   "execution_count": 15,
   "metadata": {},
   "outputs": [
    {
     "name": "stdout",
     "output_type": "stream",
     "text": [
      "[[8.]\n",
      " [0.]\n",
      " [0.]\n",
      " [0.]\n",
      " [7.]\n",
      " [0.]\n",
      " [0.]\n",
      " [3.]\n",
      " [0.]\n",
      " [0.]]\n"
     ]
    }
   ],
   "source": [
    "# I rate 3 movies\n",
    "\n",
    "divyesh_ratings[0] = 8\n",
    "divyesh_ratings[4] = 7\n",
    "divyesh_ratings[7] = 3\n",
    "\n",
    "print (divyesh_ratings)"
   ]
  },
  {
   "cell_type": "code",
   "execution_count": 17,
   "metadata": {},
   "outputs": [],
   "source": [
    "# Update ratings and did_rate\n",
    "\n",
    "ratings = append(divyesh_ratings, ratings, axis = 1)\n",
    "did_rate = append(((divyesh_ratings != 0) * 1), did_rate, axis = 1)\n"
   ]
  },
  {
   "cell_type": "code",
   "execution_count": 19,
   "metadata": {},
   "outputs": [
    {
     "name": "stdout",
     "output_type": "stream",
     "text": [
      "[[ 8.  6.  5.  7.  3.  6.]\n",
      " [ 0.  1.  0.  9.  7.  7.]\n",
      " [ 0.  2. 10.  4.  5.  1.]\n",
      " [ 0.  8.  8.  4.  0.  3.]\n",
      " [ 7.  7.  0. 10.  0.  9.]\n",
      " [ 0. 10.  0.  4.  3.  1.]\n",
      " [ 0.  3.  3. 10.  3.  1.]\n",
      " [ 3.  8.  1.  1.  5.  4.]\n",
      " [ 0.  7. 10.  2.  6.  1.]\n",
      " [ 0.  8.  4.  8. 10.  6.]]\n"
     ]
    }
   ],
   "source": [
    "print (ratings)"
   ]
  },
  {
   "cell_type": "code",
   "execution_count": 20,
   "metadata": {},
   "outputs": [
    {
     "data": {
      "text/plain": [
       "(10, 6)"
      ]
     },
     "execution_count": 20,
     "metadata": {},
     "output_type": "execute_result"
    }
   ],
   "source": [
    "ratings.shape"
   ]
  },
  {
   "cell_type": "code",
   "execution_count": 21,
   "metadata": {},
   "outputs": [
    {
     "data": {
      "text/plain": [
       "array([[1, 1, 1, 1, 1, 1],\n",
       "       [0, 1, 0, 1, 1, 1],\n",
       "       [0, 1, 1, 1, 1, 1],\n",
       "       [0, 1, 1, 1, 0, 1],\n",
       "       [1, 1, 0, 1, 0, 1],\n",
       "       [0, 1, 0, 1, 1, 1],\n",
       "       [0, 1, 1, 1, 1, 1],\n",
       "       [1, 1, 1, 1, 1, 1],\n",
       "       [0, 1, 1, 1, 1, 1],\n",
       "       [0, 1, 1, 1, 1, 1]])"
      ]
     },
     "execution_count": 21,
     "metadata": {},
     "output_type": "execute_result"
    }
   ],
   "source": [
    "did_rate"
   ]
  },
  {
   "cell_type": "code",
   "execution_count": 22,
   "metadata": {},
   "outputs": [
    {
     "name": "stdout",
     "output_type": "stream",
     "text": [
      "[[1 1 1 1 1 1]\n",
      " [0 1 0 1 1 1]\n",
      " [0 1 1 1 1 1]\n",
      " [0 1 1 1 0 1]\n",
      " [1 1 0 1 0 1]\n",
      " [0 1 0 1 1 1]\n",
      " [0 1 1 1 1 1]\n",
      " [1 1 1 1 1 1]\n",
      " [0 1 1 1 1 1]\n",
      " [0 1 1 1 1 1]]\n"
     ]
    }
   ],
   "source": [
    "print(did_rate)"
   ]
  },
  {
   "cell_type": "code",
   "execution_count": 23,
   "metadata": {},
   "outputs": [
    {
     "data": {
      "text/plain": [
       "(10, 6)"
      ]
     },
     "execution_count": 23,
     "metadata": {},
     "output_type": "execute_result"
    }
   ],
   "source": [
    "did_rate.shape"
   ]
  },
  {
   "cell_type": "code",
   "execution_count": 24,
   "metadata": {},
   "outputs": [],
   "source": [
    "# a function that normalizes a dataset\n",
    "\n",
    "def normalize_ratings(ratings, did_rate):\n",
    "    num_movies = ratings.shape[0]\n",
    "    \n",
    "    ratings_mean = zeros(shape = (num_movies, 1))\n",
    "    ratings_norm = zeros(shape = ratings.shape)\n",
    "    \n",
    "    for i in range(num_movies): \n",
    "        # Get all the indexes where there is a 1\n",
    "        idx = where(did_rate[i] == 1)[0]\n",
    "        #  Calculate mean rating of ith movie only from user's that gave a rating\n",
    "        ratings_mean[i] = mean(ratings[i, idx])\n",
    "        ratings_norm[i, idx] = ratings[i, idx] - ratings_mean[i]\n",
    "    \n",
    "    return ratings_norm, ratings_mean\n"
   ]
  },
  {
   "cell_type": "code",
   "execution_count": 25,
   "metadata": {},
   "outputs": [],
   "source": [
    "# Normalize ratings\n",
    "\n",
    "ratings, ratings_mean = normalize_ratings(ratings, did_rate)"
   ]
  },
  {
   "cell_type": "code",
   "execution_count": 26,
   "metadata": {},
   "outputs": [],
   "source": [
    "# Update some key variables now\n",
    "\n",
    "num_users = ratings.shape[1]\n",
    "num_features = 3\n",
    "\n"
   ]
  },
  {
   "cell_type": "code",
   "execution_count": 27,
   "metadata": {},
   "outputs": [],
   "source": [
    "# Initialize Parameters theta (user_prefs), X (movie_features)\n",
    "\n",
    "movie_features = random.randn( num_movies, num_features )\n",
    "user_prefs = random.randn( num_users, num_features )\n",
    "initial_X_and_theta = r_[movie_features.T.flatten(), user_prefs.T.flatten()]"
   ]
  },
  {
   "cell_type": "code",
   "execution_count": 29,
   "metadata": {},
   "outputs": [
    {
     "name": "stdout",
     "output_type": "stream",
     "text": [
      "[[ 0.3802754  -1.02999917  0.67240241]\n",
      " [-0.14803089 -1.63363073 -1.62542286]\n",
      " [-1.49913931 -0.87020857 -0.47370453]\n",
      " [ 0.35396483  0.00671762  1.10381178]\n",
      " [ 1.13822591 -0.82488456  0.4890082 ]\n",
      " [ 1.81577539 -0.34169715 -0.4586732 ]\n",
      " [-1.55638772 -0.9813944  -0.52989511]\n",
      " [-1.09852356  2.920731   -1.64005467]\n",
      " [ 0.33766961  0.99527431 -0.10068858]\n",
      " [ 1.48034997  0.69431147 -0.48194877]]\n"
     ]
    }
   ],
   "source": [
    "print (movie_features)"
   ]
  },
  {
   "cell_type": "code",
   "execution_count": 30,
   "metadata": {},
   "outputs": [
    {
     "name": "stdout",
     "output_type": "stream",
     "text": [
      "[[ 0.58717502  0.69977156  0.34236276]\n",
      " [-0.45241085 -0.21589336  0.31998823]\n",
      " [-1.31300638  1.08258085 -0.51013089]\n",
      " [-1.14399504  0.28245536 -0.36850902]\n",
      " [ 0.21085069  1.67728676  0.35304294]\n",
      " [ 1.19056849  0.45704226  0.70908389]]\n"
     ]
    }
   ],
   "source": [
    "print (user_prefs)"
   ]
  },
  {
   "cell_type": "code",
   "execution_count": 31,
   "metadata": {},
   "outputs": [
    {
     "name": "stdout",
     "output_type": "stream",
     "text": [
      "[ 0.3802754  -0.14803089 -1.49913931  0.35396483  1.13822591  1.81577539\n",
      " -1.55638772 -1.09852356  0.33766961  1.48034997 -1.02999917 -1.63363073\n",
      " -0.87020857  0.00671762 -0.82488456 -0.34169715 -0.9813944   2.920731\n",
      "  0.99527431  0.69431147  0.67240241 -1.62542286 -0.47370453  1.10381178\n",
      "  0.4890082  -0.4586732  -0.52989511 -1.64005467 -0.10068858 -0.48194877\n",
      "  0.58717502 -0.45241085 -1.31300638 -1.14399504  0.21085069  1.19056849\n",
      "  0.69977156 -0.21589336  1.08258085  0.28245536  1.67728676  0.45704226\n",
      "  0.34236276  0.31998823 -0.51013089 -0.36850902  0.35304294  0.70908389]\n"
     ]
    }
   ],
   "source": [
    "print (initial_X_and_theta)"
   ]
  },
  {
   "cell_type": "code",
   "execution_count": 32,
   "metadata": {},
   "outputs": [
    {
     "data": {
      "text/plain": [
       "(48,)"
      ]
     },
     "execution_count": 32,
     "metadata": {},
     "output_type": "execute_result"
    }
   ],
   "source": [
    "initial_X_and_theta.shape"
   ]
  },
  {
   "cell_type": "code",
   "execution_count": 33,
   "metadata": {},
   "outputs": [
    {
     "data": {
      "text/plain": [
       "(30,)"
      ]
     },
     "execution_count": 33,
     "metadata": {},
     "output_type": "execute_result"
    }
   ],
   "source": [
    "movie_features.T.flatten().shape"
   ]
  },
  {
   "cell_type": "code",
   "execution_count": 34,
   "metadata": {},
   "outputs": [
    {
     "data": {
      "text/plain": [
       "(18,)"
      ]
     },
     "execution_count": 34,
     "metadata": {},
     "output_type": "execute_result"
    }
   ],
   "source": [
    "user_prefs.T.flatten().shape"
   ]
  },
  {
   "cell_type": "code",
   "execution_count": 35,
   "metadata": {},
   "outputs": [
    {
     "data": {
      "text/plain": [
       "array([ 0.3802754 , -0.14803089, -1.49913931,  0.35396483,  1.13822591,\n",
       "        1.81577539, -1.55638772, -1.09852356,  0.33766961,  1.48034997,\n",
       "       -1.02999917, -1.63363073, -0.87020857,  0.00671762, -0.82488456,\n",
       "       -0.34169715, -0.9813944 ,  2.920731  ,  0.99527431,  0.69431147,\n",
       "        0.67240241, -1.62542286, -0.47370453,  1.10381178,  0.4890082 ,\n",
       "       -0.4586732 , -0.52989511, -1.64005467, -0.10068858, -0.48194877,\n",
       "        0.58717502, -0.45241085, -1.31300638, -1.14399504,  0.21085069,\n",
       "        1.19056849,  0.69977156, -0.21589336,  1.08258085,  0.28245536,\n",
       "        1.67728676,  0.45704226,  0.34236276,  0.31998823, -0.51013089,\n",
       "       -0.36850902,  0.35304294,  0.70908389])"
      ]
     },
     "execution_count": 35,
     "metadata": {},
     "output_type": "execute_result"
    }
   ],
   "source": [
    "initial_X_and_theta"
   ]
  },
  {
   "cell_type": "code",
   "execution_count": 37,
   "metadata": {},
   "outputs": [],
   "source": [
    "def unroll_params(X_and_theta, num_users, num_movies, num_features):\n",
    "    # Retrieve the X and theta matrixes from X_and_theta, based on their dimensions (num_features, num_movies, num_movies)\n",
    "    # --------------------------------------------------------------------------------------------------------------\n",
    "    # Get the first 30 (10 * 3) rows in the 48 X 1 column vector\n",
    "    first_30 = X_and_theta[:num_movies * num_features]\n",
    "    # Reshape this column vector into a 10 X 3 matrix\n",
    "    X = first_30.reshape((num_features, num_movies)).transpose()\n",
    "    # Get the rest of the 18 the numbers, after the first 30\n",
    "    last_18 = X_and_theta[num_movies * num_features:]\n",
    "    # Reshape this column vector into a 6 X 3 matrix\n",
    "    theta = last_18.reshape(num_features, num_users ).transpose()\n",
    "    return X, theta"
   ]
  },
  {
   "cell_type": "code",
   "execution_count": 39,
   "metadata": {},
   "outputs": [],
   "source": [
    "def calculate_gradient(X_and_theta, ratings, did_rate, num_users, num_movies, num_features, reg_param):\n",
    "    X, theta = unroll_params(X_and_theta, num_users, num_movies, num_features)\n",
    "    \n",
    "    # we multiply by did_rate because we only want to consider observations for which a rating was given\n",
    "    difference = X.dot( theta.T ) * did_rate - ratings\n",
    "    X_grad = difference.dot( theta ) + reg_param * X\n",
    "    theta_grad = difference.T.dot( X ) + reg_param * theta\n",
    "    \n",
    "    # wrap the gradients back into a column vector \n",
    "    return r_[X_grad.T.flatten(), theta_grad.T.flatten()]"
   ]
  },
  {
   "cell_type": "code",
   "execution_count": 40,
   "metadata": {},
   "outputs": [],
   "source": [
    "def calculate_cost(X_and_theta, ratings, did_rate, num_users, num_movies, num_features, reg_param):\n",
    "    X, theta = unroll_params(X_and_theta, num_users, num_movies, num_features)\n",
    "    \n",
    "    # we multiply (element-wise) by did_rate because we only want to consider observations for which a rating was given\n",
    "    cost = sum( (X.dot( theta.T ) * did_rate - ratings) ** 2 ) / 2\n",
    "    # '**' means an element-wise power\n",
    "    regularization = (reg_param / 2) * (sum( theta**2 ) + sum(X**2))\n",
    "    return cost + regularization"
   ]
  },
  {
   "cell_type": "code",
   "execution_count": 41,
   "metadata": {},
   "outputs": [],
   "source": [
    "# import these for advanced optimizations (like gradient descent)\n",
    "\n",
    "from scipy import optimize"
   ]
  },
  {
   "cell_type": "code",
   "execution_count": 45,
   "metadata": {},
   "outputs": [
    {
     "name": "stdout",
     "output_type": "stream",
     "text": [
      "Optimization terminated successfully.\n",
      "         Current function value: 165.733333\n",
      "         Iterations: 11\n",
      "         Function evaluations: 23\n",
      "         Gradient evaluations: 23\n"
     ]
    }
   ],
   "source": [
    "# regularization paramater\n",
    "\n",
    "reg_param = 30\n",
    "minimized_cost_and_optimal_params = optimize.fmin_cg(calculate_cost, fprime=calculate_gradient, x0=initial_X_and_theta, args=(ratings, did_rate, num_users, num_movies, num_features, reg_param), maxiter=100, disp=True, full_output=True ) "
   ]
  },
  {
   "cell_type": "code",
   "execution_count": 46,
   "metadata": {},
   "outputs": [],
   "source": [
    "cost, optimal_movie_features_and_user_prefs = minimized_cost_and_optimal_params[1], minimized_cost_and_optimal_params[0]\n"
   ]
  },
  {
   "cell_type": "code",
   "execution_count": 47,
   "metadata": {},
   "outputs": [],
   "source": [
    "movie_features, user_prefs = unroll_params(optimal_movie_features_and_user_prefs, num_users, num_movies, num_features)"
   ]
  },
  {
   "cell_type": "code",
   "execution_count": 49,
   "metadata": {},
   "outputs": [
    {
     "name": "stdout",
     "output_type": "stream",
     "text": [
      "[[-1.24014113e-07 -7.59897362e-08 -1.01693192e-08]\n",
      " [-5.94134908e-08 -2.66293956e-08 -3.36224132e-08]\n",
      " [-4.07690467e-08  4.23436534e-09 -2.60774637e-08]\n",
      " [ 7.67187457e-09  1.76164408e-08  7.50915850e-10]\n",
      " [ 1.54754142e-07  8.08967082e-08  5.46473507e-08]\n",
      " [ 8.85091647e-08  5.44001926e-08  4.04168147e-08]\n",
      " [ 4.65661368e-08  1.07880832e-07  3.94524827e-08]\n",
      " [ 1.57029230e-08  1.12534995e-08 -5.74709402e-09]\n",
      " [-1.66326582e-08  2.76379415e-08 -2.62654946e-08]\n",
      " [-1.05870229e-07  3.80454607e-09 -6.43753980e-08]]\n"
     ]
    }
   ],
   "source": [
    "print (movie_features)"
   ]
  },
  {
   "cell_type": "code",
   "execution_count": 50,
   "metadata": {},
   "outputs": [
    {
     "name": "stdout",
     "output_type": "stream",
     "text": [
      "[[ 4.43575029e-08 -4.93998864e-08  1.08739383e-07]\n",
      " [ 1.74147621e-08  9.45178398e-08  1.48058788e-08]\n",
      " [-1.07312425e-07 -1.50635091e-07  1.55848602e-08]\n",
      " [ 1.65640379e-08  2.04379413e-07  3.40137238e-08]\n",
      " [ 1.46923237e-09  7.00086927e-08 -1.41666735e-07]\n",
      " [-8.30788746e-09 -1.04770645e-07 -5.79846589e-09]]\n"
     ]
    }
   ],
   "source": [
    "print (user_prefs)"
   ]
  },
  {
   "cell_type": "code",
   "execution_count": 51,
   "metadata": {},
   "outputs": [],
   "source": [
    "\n",
    "# Make some predictions (movie recommendations). Dot product\n",
    "\n",
    "all_predictions = movie_features.dot( user_prefs.T )"
   ]
  },
  {
   "cell_type": "code",
   "execution_count": 53,
   "metadata": {},
   "outputs": [
    {
     "name": "stdout",
     "output_type": "stream",
     "text": [
      "[[-2.85287753e-15 -9.49262769e-15  2.45964885e-14 -1.79308086e-14\n",
      "  -4.06149339e-15  9.05075540e-15]\n",
      " [-4.97602544e-15 -4.04943413e-15  9.86312656e-15 -7.57025104e-15\n",
      "   2.81159611e-15  3.47853796e-15]\n",
      " [-4.85323759e-15 -6.95859951e-16  3.33076761e-15 -6.96874578e-16\n",
      "   3.93085232e-15  4.62767480e-17]\n",
      " [-4.48290849e-16  1.80978977e-15 -3.46523870e-15  3.75305649e-15\n",
      "   1.13819596e-15 -1.91377709e-15]\n",
      " [ 8.81053830e-15  1.11502907e-14 -2.79412538e-14  2.09557351e-14\n",
      "  -1.85086918e-15 -1.00781511e-14]\n",
      " [ 5.63358169e-15  7.28156120e-15 -1.70628206e-14  1.39590750e-14\n",
      "  -1.78719128e-15 -6.66922296e-15]\n",
      " [ 1.02629532e-15  1.15917301e-14 -2.06329026e-14  2.41618703e-14\n",
      "   2.03190810e-15 -1.19183745e-14]\n",
      " [-4.84314600e-16  1.25202835e-15 -3.46985832e-15  2.36460736e-15\n",
      "   1.62508607e-15 -1.27617019e-15]\n",
      " [-4.95918804e-15  1.93374101e-15 -2.78769701e-15  4.47973501e-15\n",
      "   5.63140578e-15 -2.60516313e-15]\n",
      " [-1.18842242e-14 -2.43724171e-15  9.78481123e-15 -3.16571460e-15\n",
      "   9.23065577e-15  8.54231752e-16]]\n"
     ]
    }
   ],
   "source": [
    "print(all_predictions)"
   ]
  },
  {
   "cell_type": "code",
   "execution_count": 57,
   "metadata": {},
   "outputs": [],
   "source": [
    "# add back the ratings_mean column vector to my (our) predictions\n",
    "\n",
    "predictions_for_divyesh = all_predictions[:, 0:1] + ratings_mean"
   ]
  },
  {
   "cell_type": "code",
   "execution_count": 58,
   "metadata": {},
   "outputs": [
    {
     "name": "stdout",
     "output_type": "stream",
     "text": [
      "[[5.83333333]\n",
      " [6.        ]\n",
      " [4.4       ]\n",
      " [5.75      ]\n",
      " [8.25      ]\n",
      " [4.5       ]\n",
      " [4.        ]\n",
      " [3.66666667]\n",
      " [5.2       ]\n",
      " [7.2       ]]\n"
     ]
    }
   ],
   "source": [
    "print (predictions_for_divyesh)"
   ]
  },
  {
   "cell_type": "code",
   "execution_count": 59,
   "metadata": {},
   "outputs": [
    {
     "name": "stdout",
     "output_type": "stream",
     "text": [
      "[[8.]\n",
      " [0.]\n",
      " [0.]\n",
      " [0.]\n",
      " [7.]\n",
      " [0.]\n",
      " [0.]\n",
      " [3.]\n",
      " [0.]\n",
      " [0.]]\n"
     ]
    }
   ],
   "source": [
    "print (divyesh_ratings)"
   ]
  },
  {
   "cell_type": "code",
   "execution_count": null,
   "metadata": {},
   "outputs": [],
   "source": []
  }
 ],
 "metadata": {
  "kernelspec": {
   "display_name": "Python 3",
   "language": "python",
   "name": "python3"
  },
  "language_info": {
   "codemirror_mode": {
    "name": "ipython",
    "version": 3
   },
   "file_extension": ".py",
   "mimetype": "text/x-python",
   "name": "python",
   "nbconvert_exporter": "python",
   "pygments_lexer": "ipython3",
   "version": "3.6.9"
  }
 },
 "nbformat": 4,
 "nbformat_minor": 2
}
